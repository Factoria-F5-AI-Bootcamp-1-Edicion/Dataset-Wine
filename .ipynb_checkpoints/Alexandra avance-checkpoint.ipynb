{
 "cells": [
  {
   "cell_type": "code",
   "execution_count": 9,
   "id": "4740985d-a751-44a5-b20e-88e4287dfd79",
   "metadata": {},
   "outputs": [],
   "source": [
    "#Importanbdo librerias de Python\n",
    "import numpy as np\n",
    "import matplotlib.pyplot as plt\n",
    "import pandas as pd\n",
    "import seaborn as sns\n",
    "\n",
    "%matplotlib inline\n",
    "%reload_ext autoreload\n",
    "%autoreload 2"
   ]
  },
  {
   "cell_type": "code",
   "execution_count": 10,
   "id": "05727d29-0830-4026-85d9-c47a185c4ca5",
   "metadata": {},
   "outputs": [
    {
     "name": "stdout",
     "output_type": "stream",
     "text": [
      "Defaulting to user installation because normal site-packages is not writeable\n",
      "Requirement already satisfied: iteration in /home/alexandra/.local/lib/python3.10/site-packages (1.2.0)\n",
      "Requirement already satisfied: utils in /home/alexandra/.local/lib/python3.10/site-packages (1.0.1)\n",
      "Note: you may need to restart the kernel to use updated packages.\n"
     ]
    }
   ],
   "source": [
    "pip install iteration utils"
   ]
  },
  {
   "cell_type": "code",
   "execution_count": 11,
   "id": "8f309a41-178f-4666-9be7-42aadc6048f0",
   "metadata": {},
   "outputs": [
    {
     "data": {
      "text/html": [
       "<div>\n",
       "<style scoped>\n",
       "    .dataframe tbody tr th:only-of-type {\n",
       "        vertical-align: middle;\n",
       "    }\n",
       "\n",
       "    .dataframe tbody tr th {\n",
       "        vertical-align: top;\n",
       "    }\n",
       "\n",
       "    .dataframe thead th {\n",
       "        text-align: right;\n",
       "    }\n",
       "</style>\n",
       "<table border=\"1\" class=\"dataframe\">\n",
       "  <thead>\n",
       "    <tr style=\"text-align: right;\">\n",
       "      <th></th>\n",
       "      <th>country</th>\n",
       "      <th>description</th>\n",
       "      <th>designation</th>\n",
       "      <th>points</th>\n",
       "      <th>price</th>\n",
       "      <th>province</th>\n",
       "      <th>region_1</th>\n",
       "      <th>region_2</th>\n",
       "      <th>taster_name</th>\n",
       "      <th>taster_twitter_handle</th>\n",
       "      <th>title</th>\n",
       "      <th>variety</th>\n",
       "      <th>winery</th>\n",
       "    </tr>\n",
       "  </thead>\n",
       "  <tbody>\n",
       "    <tr>\n",
       "      <th>0</th>\n",
       "      <td>Italy</td>\n",
       "      <td>Aromas include tropical fruit, broom, brimston...</td>\n",
       "      <td>Vulkà Bianco</td>\n",
       "      <td>87</td>\n",
       "      <td>NaN</td>\n",
       "      <td>Sicily &amp; Sardinia</td>\n",
       "      <td>Etna</td>\n",
       "      <td>NaN</td>\n",
       "      <td>Kerin O’Keefe</td>\n",
       "      <td>@kerinokeefe</td>\n",
       "      <td>Nicosia 2013 Vulkà Bianco  (Etna)</td>\n",
       "      <td>White Blend</td>\n",
       "      <td>Nicosia</td>\n",
       "    </tr>\n",
       "    <tr>\n",
       "      <th>1</th>\n",
       "      <td>Portugal</td>\n",
       "      <td>This is ripe and fruity, a wine that is smooth...</td>\n",
       "      <td>Avidagos</td>\n",
       "      <td>87</td>\n",
       "      <td>15.0</td>\n",
       "      <td>Douro</td>\n",
       "      <td>NaN</td>\n",
       "      <td>NaN</td>\n",
       "      <td>Roger Voss</td>\n",
       "      <td>@vossroger</td>\n",
       "      <td>Quinta dos Avidagos 2011 Avidagos Red (Douro)</td>\n",
       "      <td>Portuguese Red</td>\n",
       "      <td>Quinta dos Avidagos</td>\n",
       "    </tr>\n",
       "    <tr>\n",
       "      <th>2</th>\n",
       "      <td>US</td>\n",
       "      <td>Tart and snappy, the flavors of lime flesh and...</td>\n",
       "      <td>NaN</td>\n",
       "      <td>87</td>\n",
       "      <td>14.0</td>\n",
       "      <td>Oregon</td>\n",
       "      <td>Willamette Valley</td>\n",
       "      <td>Willamette Valley</td>\n",
       "      <td>Paul Gregutt</td>\n",
       "      <td>@paulgwine</td>\n",
       "      <td>Rainstorm 2013 Pinot Gris (Willamette Valley)</td>\n",
       "      <td>Pinot Gris</td>\n",
       "      <td>Rainstorm</td>\n",
       "    </tr>\n",
       "    <tr>\n",
       "      <th>3</th>\n",
       "      <td>US</td>\n",
       "      <td>Pineapple rind, lemon pith and orange blossom ...</td>\n",
       "      <td>Reserve Late Harvest</td>\n",
       "      <td>87</td>\n",
       "      <td>13.0</td>\n",
       "      <td>Michigan</td>\n",
       "      <td>Lake Michigan Shore</td>\n",
       "      <td>NaN</td>\n",
       "      <td>Alexander Peartree</td>\n",
       "      <td>NaN</td>\n",
       "      <td>St. Julian 2013 Reserve Late Harvest Riesling ...</td>\n",
       "      <td>Riesling</td>\n",
       "      <td>St. Julian</td>\n",
       "    </tr>\n",
       "    <tr>\n",
       "      <th>4</th>\n",
       "      <td>US</td>\n",
       "      <td>Much like the regular bottling from 2012, this...</td>\n",
       "      <td>Vintner's Reserve Wild Child Block</td>\n",
       "      <td>87</td>\n",
       "      <td>65.0</td>\n",
       "      <td>Oregon</td>\n",
       "      <td>Willamette Valley</td>\n",
       "      <td>Willamette Valley</td>\n",
       "      <td>Paul Gregutt</td>\n",
       "      <td>@paulgwine</td>\n",
       "      <td>Sweet Cheeks 2012 Vintner's Reserve Wild Child...</td>\n",
       "      <td>Pinot Noir</td>\n",
       "      <td>Sweet Cheeks</td>\n",
       "    </tr>\n",
       "  </tbody>\n",
       "</table>\n",
       "</div>"
      ],
      "text/plain": [
       "    country                                        description  \\\n",
       "0     Italy  Aromas include tropical fruit, broom, brimston...   \n",
       "1  Portugal  This is ripe and fruity, a wine that is smooth...   \n",
       "2        US  Tart and snappy, the flavors of lime flesh and...   \n",
       "3        US  Pineapple rind, lemon pith and orange blossom ...   \n",
       "4        US  Much like the regular bottling from 2012, this...   \n",
       "\n",
       "                          designation  points  price           province  \\\n",
       "0                        Vulkà Bianco      87    NaN  Sicily & Sardinia   \n",
       "1                            Avidagos      87   15.0              Douro   \n",
       "2                                 NaN      87   14.0             Oregon   \n",
       "3                Reserve Late Harvest      87   13.0           Michigan   \n",
       "4  Vintner's Reserve Wild Child Block      87   65.0             Oregon   \n",
       "\n",
       "              region_1           region_2         taster_name  \\\n",
       "0                 Etna                NaN       Kerin O’Keefe   \n",
       "1                  NaN                NaN          Roger Voss   \n",
       "2    Willamette Valley  Willamette Valley        Paul Gregutt   \n",
       "3  Lake Michigan Shore                NaN  Alexander Peartree   \n",
       "4    Willamette Valley  Willamette Valley        Paul Gregutt   \n",
       "\n",
       "  taster_twitter_handle                                              title  \\\n",
       "0          @kerinokeefe                  Nicosia 2013 Vulkà Bianco  (Etna)   \n",
       "1            @vossroger      Quinta dos Avidagos 2011 Avidagos Red (Douro)   \n",
       "2           @paulgwine       Rainstorm 2013 Pinot Gris (Willamette Valley)   \n",
       "3                   NaN  St. Julian 2013 Reserve Late Harvest Riesling ...   \n",
       "4           @paulgwine   Sweet Cheeks 2012 Vintner's Reserve Wild Child...   \n",
       "\n",
       "          variety               winery  \n",
       "0     White Blend              Nicosia  \n",
       "1  Portuguese Red  Quinta dos Avidagos  \n",
       "2      Pinot Gris            Rainstorm  \n",
       "3        Riesling           St. Julian  \n",
       "4      Pinot Noir         Sweet Cheeks  "
      ]
     },
     "execution_count": 11,
     "metadata": {},
     "output_type": "execute_result"
    }
   ],
   "source": [
    "#lectura del archivo y vista de las 5 primeras filas\n",
    "df=pd.read_csv(\"wine_reviews_dataset.csv\", index_col=\"Unnamed: 0\")\n",
    "df.head()"
   ]
  },
  {
   "cell_type": "code",
   "execution_count": 12,
   "id": "4f65983a-efbb-4f3a-994d-c6527ece03bf",
   "metadata": {},
   "outputs": [
    {
     "name": "stdout",
     "output_type": "stream",
     "text": [
      "       country                                        description  \\\n",
      "2408        US  This is weighty, creamy and medium to full in ...   \n",
      "2409     Italy  There's a touch of toasted almond at the start...   \n",
      "2410     Chile  Lightly herbal strawberry and raspberry aromas...   \n",
      "2412     Italy  The Monica grape often shows a rustic or raw q...   \n",
      "2413    France  Fruity and lightly herbaceous, this has fine t...   \n",
      "...        ...                                                ...   \n",
      "129879      US  This wine is a blend of 45% Grenache, 37% Syra...   \n",
      "129880      US  Apple blossom intrigues on the nose of this li...   \n",
      "129881   Spain  This Verdejo smells like citrus fruits and wil...   \n",
      "129882      US  This wine is mostly Cabernet Sauvignon (78%), ...   \n",
      "129913      US  This is taut and dense, and requires time and ...   \n",
      "\n",
      "               designation  points  price           province  \\\n",
      "2408                   NaN      85   14.0         California   \n",
      "2409    Sallier de la Tour      85   13.0  Sicily & Sardinia   \n",
      "2410               Reserve      85   13.0       Maipo Valley   \n",
      "2412                 Dolia      85   14.0  Sicily & Sardinia   \n",
      "2413     La Fleur d'Amélie      85   15.0           Bordeaux   \n",
      "...                    ...     ...    ...                ...   \n",
      "129879               Metis      90   20.0         Washington   \n",
      "129880                 NaN      90   20.0         California   \n",
      "129881                 NaN      90   19.0     Northern Spain   \n",
      "129882             Reserve      90   60.0         Washington   \n",
      "129913   Artist Series #14      92   44.0         Washington   \n",
      "\n",
      "                    region_1         region_2        taster_name  \\\n",
      "2408             North Coast      North Coast     Virginie Boone   \n",
      "2409                 Sicilia              NaN                NaN   \n",
      "2410                     NaN              NaN  Michael Schachner   \n",
      "2412      Monica di Sardegna              NaN                NaN   \n",
      "2413          Bordeaux Blanc              NaN         Roger Voss   \n",
      "...                      ...              ...                ...   \n",
      "129879  Columbia Valley (WA)  Columbia Valley   Sean P. Sullivan   \n",
      "129880  Russian River Valley           Sonoma     Virginie Boone   \n",
      "129881                 Rueda              NaN  Michael Schachner   \n",
      "129882  Columbia Valley (WA)  Columbia Valley   Sean P. Sullivan   \n",
      "129913  Columbia Valley (WA)  Columbia Valley       Paul Gregutt   \n",
      "\n",
      "       taster_twitter_handle  \\\n",
      "2408                 @vboone   \n",
      "2409                     NaN   \n",
      "2410             @wineschach   \n",
      "2412                     NaN   \n",
      "2413              @vossroger   \n",
      "...                      ...   \n",
      "129879         @wawinereport   \n",
      "129880               @vboone   \n",
      "129881           @wineschach   \n",
      "129882         @wawinereport   \n",
      "129913           @paulgwine    \n",
      "\n",
      "                                                    title  \\\n",
      "2408              Souverain 2010 Chardonnay (North Coast)   \n",
      "2409    Tasca d'Almerita 2011 Sallier de la Tour Grill...   \n",
      "2410    Tres Palacios 2011 Reserve Pinot Noir (Maipo V...   \n",
      "2412    Cantine di Dolianova 2010 Dolia  (Monica di Sa...   \n",
      "2413    Château de Sours 2011 La Fleur d'Amélie  (Bord...   \n",
      "...                                                   ...   \n",
      "129879  Maison Bleue 2013 Metis Red (Columbia Valley (...   \n",
      "129880  Martin Ray 2015 Chardonnay (Russian River Valley)   \n",
      "129881                  Martinsancho 2015 Verdejo (Rueda)   \n",
      "129882   Matthews 2012 Reserve Red (Columbia Valley (WA))   \n",
      "129913  Woodward Canyon 2005 Artist Series #14 Caberne...   \n",
      "\n",
      "                           variety                winery  \n",
      "2408                    Chardonnay             Souverain  \n",
      "2409                        Grillo      Tasca d'Almerita  \n",
      "2410                    Pinot Noir         Tres Palacios  \n",
      "2412                        Monica  Cantine di Dolianova  \n",
      "2413    Bordeaux-style White Blend      Château de Sours  \n",
      "...                            ...                   ...  \n",
      "129879                   Red Blend          Maison Bleue  \n",
      "129880                  Chardonnay            Martin Ray  \n",
      "129881                     Verdejo          Martinsancho  \n",
      "129882    Bordeaux-style Red Blend              Matthews  \n",
      "129913          Cabernet Sauvignon       Woodward Canyon  \n",
      "\n",
      "[9983 rows x 13 columns]\n"
     ]
    }
   ],
   "source": [
    "df_filas_duplicadas = df[df.duplicated()]\n",
    "print(df_filas_duplicadas)"
   ]
  },
  {
   "cell_type": "code",
   "execution_count": 17,
   "id": "0630ebd9-645d-45dd-9b05-101d951c8d32",
   "metadata": {},
   "outputs": [
    {
     "ename": "AttributeError",
     "evalue": "'DataFrame' object has no attribute 'drop_duplicated'",
     "output_type": "error",
     "traceback": [
      "\u001b[0;31m---------------------------------------------------------------------------\u001b[0m",
      "\u001b[0;31mAttributeError\u001b[0m                            Traceback (most recent call last)",
      "Input \u001b[0;32mIn [17]\u001b[0m, in \u001b[0;36m<cell line: 1>\u001b[0;34m()\u001b[0m\n\u001b[0;32m----> 1\u001b[0m \u001b[43mdf\u001b[49m\u001b[38;5;241;43m.\u001b[39;49m\u001b[43mdrop_duplicated\u001b[49m()\n",
      "File \u001b[0;32m~/.local/lib/python3.10/site-packages/pandas/core/generic.py:5575\u001b[0m, in \u001b[0;36mNDFrame.__getattr__\u001b[0;34m(self, name)\u001b[0m\n\u001b[1;32m   5568\u001b[0m \u001b[38;5;28;01mif\u001b[39;00m (\n\u001b[1;32m   5569\u001b[0m     name \u001b[38;5;129;01mnot\u001b[39;00m \u001b[38;5;129;01min\u001b[39;00m \u001b[38;5;28mself\u001b[39m\u001b[38;5;241m.\u001b[39m_internal_names_set\n\u001b[1;32m   5570\u001b[0m     \u001b[38;5;129;01mand\u001b[39;00m name \u001b[38;5;129;01mnot\u001b[39;00m \u001b[38;5;129;01min\u001b[39;00m \u001b[38;5;28mself\u001b[39m\u001b[38;5;241m.\u001b[39m_metadata\n\u001b[1;32m   5571\u001b[0m     \u001b[38;5;129;01mand\u001b[39;00m name \u001b[38;5;129;01mnot\u001b[39;00m \u001b[38;5;129;01min\u001b[39;00m \u001b[38;5;28mself\u001b[39m\u001b[38;5;241m.\u001b[39m_accessors\n\u001b[1;32m   5572\u001b[0m     \u001b[38;5;129;01mand\u001b[39;00m \u001b[38;5;28mself\u001b[39m\u001b[38;5;241m.\u001b[39m_info_axis\u001b[38;5;241m.\u001b[39m_can_hold_identifiers_and_holds_name(name)\n\u001b[1;32m   5573\u001b[0m ):\n\u001b[1;32m   5574\u001b[0m     \u001b[38;5;28;01mreturn\u001b[39;00m \u001b[38;5;28mself\u001b[39m[name]\n\u001b[0;32m-> 5575\u001b[0m \u001b[38;5;28;01mreturn\u001b[39;00m \u001b[38;5;28;43mobject\u001b[39;49m\u001b[38;5;241;43m.\u001b[39;49m\u001b[38;5;21;43m__getattribute__\u001b[39;49m\u001b[43m(\u001b[49m\u001b[38;5;28;43mself\u001b[39;49m\u001b[43m,\u001b[49m\u001b[43m \u001b[49m\u001b[43mname\u001b[49m\u001b[43m)\u001b[49m\n",
      "\u001b[0;31mAttributeError\u001b[0m: 'DataFrame' object has no attribute 'drop_duplicated'"
     ]
    }
   ],
   "source": [
    "df.drop_duplicated()"
   ]
  },
  {
   "cell_type": "code",
   "execution_count": 15,
   "id": "cd09ffda-7bba-46f2-a65f-18f3eb2f8efe",
   "metadata": {},
   "outputs": [],
   "source": [
    "# definiendo ruta\n",
    "path_to_data=\"./wine_reviews_dataset.csv\""
   ]
  },
  {
   "cell_type": "code",
   "execution_count": 16,
   "id": "a6dd35ea-1ab8-4361-916f-4691e747e736",
   "metadata": {},
   "outputs": [
    {
     "name": "stdout",
     "output_type": "stream",
     "text": [
      "<class 'pandas.core.frame.DataFrame'>\n",
      "Int64Index: 129971 entries, 0 to 129970\n",
      "Data columns (total 13 columns):\n",
      " #   Column                 Non-Null Count   Dtype  \n",
      "---  ------                 --------------   -----  \n",
      " 0   country                129908 non-null  object \n",
      " 1   description            129971 non-null  object \n",
      " 2   designation            92506 non-null   object \n",
      " 3   points                 129971 non-null  int64  \n",
      " 4   price                  120975 non-null  float64\n",
      " 5   province               129908 non-null  object \n",
      " 6   region_1               108724 non-null  object \n",
      " 7   region_2               50511 non-null   object \n",
      " 8   taster_name            103727 non-null  object \n",
      " 9   taster_twitter_handle  98758 non-null   object \n",
      " 10  title                  129971 non-null  object \n",
      " 11  variety                129970 non-null  object \n",
      " 12  winery                 129971 non-null  object \n",
      "dtypes: float64(1), int64(1), object(11)\n",
      "memory usage: 13.9+ MB\n"
     ]
    }
   ],
   "source": [
    "df.info ()"
   ]
  },
  {
   "cell_type": "code",
   "execution_count": null,
   "id": "81c57657-aaef-487d-af15-24e8d69c26b9",
   "metadata": {},
   "outputs": [],
   "source": [
    "#clasificando variables\n",
    "categoricas=[\"Unnamed: 0\",\"country\", \"description\", \"designation\", \"province\", \"region_1\", \"region_2\", \"taster_name\", \"taster_twitter_handle\", \"title\", \"variety\", \"winery\"]\n",
    "numericas=([\"points\", \"price\"])"
   ]
  },
  {
   "cell_type": "code",
   "execution_count": null,
   "id": "0764ffa7-2bc1-40d3-8488-bb3693970d8b",
   "metadata": {},
   "outputs": [],
   "source": [
    "# creando nuev tabla df1: contiene country, points, price, variety, winery\n",
    "df1 = df.drop (columns=[\"Unnamed: 0\", \"description\", \"province\",  \"designation\", \"taster_name\", \"taster_twitter_handle\", \"title\"])\n",
    "df1.head()\n"
   ]
  },
  {
   "cell_type": "code",
   "execution_count": null,
   "id": "2933f0d0-63c6-4693-97b7-d4ba1b3cccff",
   "metadata": {},
   "outputs": [],
   "source": [
    "# Cuantos missing values hay en el dataset por cada columna\n",
    "df1.isnull().sum()"
   ]
  },
  {
   "cell_type": "markdown",
   "id": "22cd306e-5032-4d64-ab63-bd9065f7ea46",
   "metadata": {},
   "source": [
    "<p> Hay muchos datos NaN para precio, </p>"
   ]
  },
  {
   "cell_type": "code",
   "execution_count": null,
   "id": "f8bcbcd2-0215-4e7f-9caf-c138f9a3efb9",
   "metadata": {},
   "outputs": [],
   "source": [
    "# Principales descriptores estadisticos\n",
    "df1.describe()\n"
   ]
  },
  {
   "cell_type": "markdown",
   "id": "43835251-e3e9-42a5-89f5-d4307175d5bb",
   "metadata": {},
   "source": [
    "<p> Observamos que hay una gran SD en los precios de los vinos, siendo el más barato 4 y el más caro 3300. \n",
    "De manera contraria la SD de los puntos es menor, siendo el puntake minimo 80 y maximo 100.</p>"
   ]
  },
  {
   "cell_type": "code",
   "execution_count": null,
   "id": "c31bef8b-6836-4c83-964a-e2b5cf3dd354",
   "metadata": {},
   "outputs": [],
   "source": [
    "# Evaluando correlación entre precio y puntos\n",
    "sns.heatmap(df1.corr(), annot=True, cmap='Blues')"
   ]
  },
  {
   "cell_type": "markdown",
   "id": "f3a16d21-8802-48f4-94cb-2e376c38c809",
   "metadata": {},
   "source": [
    "<p> R = 0.42 => baja correlación entre puntaje y precio </p>"
   ]
  },
  {
   "cell_type": "code",
   "execution_count": null,
   "id": "bba0eb33-6eac-49ab-9d60-4cdcddc9286f",
   "metadata": {},
   "outputs": [],
   "source": [
    "# Evaluando precios vs puntaje \n",
    "plt.figure(figsize=(15,6))\n",
    "sns.scatterplot(data = df1, x= 'points', y ='price')"
   ]
  },
  {
   "cell_type": "markdown",
   "id": "512633a5-d15e-446a-b2a7-d8dfb945edc5",
   "metadata": {},
   "source": [
    "<p> Se observa que varios vinos más caros tienen más puntaje, pero también hay vinos baratos con muy buen puntaje.</p>"
   ]
  },
  {
   "cell_type": "code",
   "execution_count": null,
   "id": "1c096e03-e906-40bb-a646-62f5b0696c59",
   "metadata": {},
   "outputs": [],
   "source": [
    "# Evaluando precios por país\n",
    "fig, ax = plt.subplots(ncols=1, figsize=(18,7))\n",
    "sns.boxplot(y='price', x='country', data=df1, ax=ax)\n",
    "plt.xticks(rotation=90)\n",
    "plt.show()"
   ]
  },
  {
   "cell_type": "markdown",
   "id": "269460bb-fd92-45c4-846b-56074853f6dd",
   "metadata": {},
   "source": [
    "<p> Los diagramas de caja están muy cerca uno del otro => difícil hacer una inferencia. \n",
    "Se observa que los vinos más caros provienen de paises como Francia (3300), US, Australia, Protugal, Italia, Españas </p>\n"
   ]
  },
  {
   "cell_type": "code",
   "execution_count": null,
   "id": "8dd51a5a-e137-4864-adb1-e70e7731ca3a",
   "metadata": {},
   "outputs": [],
   "source": [
    "# Evaluando puntajes por país\n",
    "plt.figure(figsize=(17,8))\n",
    "sns.scatterplot(data = df1, y='points', x='country', color='black')\n",
    "plt.grid(axis='x')\n",
    "plt.xticks(rotation=90);"
   ]
  },
  {
   "cell_type": "markdown",
   "id": "bab2c33f-c15b-4c42-aa10-ebe6c9e48e75",
   "metadata": {},
   "source": [
    "<p> Se observa que los vinos con puntaje de 100 provienen de Italia, Portugal, Francia y Australia, pero estos mismos paises tambien los puntajes más bajos.\n",
    "También vemos que países como Inglaterra, Luxemburgo e India no tienen vinos con bajos puntajes </p>"
   ]
  },
  {
   "cell_type": "code",
   "execution_count": null,
   "id": "60d04ac6-71d0-47ed-bf75-5db55fa6072a",
   "metadata": {},
   "outputs": [],
   "source": [
    "# Evaluando la distribución de los datos\n",
    "df1.hist(color='k', alpha=0.5, bins=10)\n",
    "plt.show()\n"
   ]
  },
  {
   "cell_type": "markdown",
   "id": "238ce76d-cfa0-465d-9546-8505f39ed91b",
   "metadata": {},
   "source": [
    "<p> Distribución de puntaje => normal; mientras que distribución de precios está a la izquierda, mayoría tiene precios bajos </p>"
   ]
  },
  {
   "cell_type": "code",
   "execution_count": null,
   "id": "4e89641e-7ff2-4326-bfe2-58f9f4f9f807",
   "metadata": {},
   "outputs": [],
   "source": [
    "# Cambiando los precios de variable numérica a categórica\n",
    "bins = [0,300,500,1000,2000,3300]\n",
    "names = [\"0-300\",\"301-500\",\"501-1000\",\"1001-2000\",\"2001-3300\"]\n",
    "df[\"price\"] = pd.cut(df[\"price\"], bins, labels = names)\n",
    "df.iloc[:, [1,5]]"
   ]
  },
  {
   "cell_type": "code",
   "execution_count": null,
   "id": "32f774ea-0f27-4669-bc9b-c3aaf94d3be7",
   "metadata": {},
   "outputs": [],
   "source": [
    "# Visualizando los rangos de precios por paises\n",
    "sns.displot(x=\"country\" , y=\"price\", data=df, height = 3, aspect = 5)\n",
    "plt.grid(axis='x')\n",
    "plt.xticks(rotation=90)\n",
    "plt.show()"
   ]
  },
  {
   "cell_type": "markdown",
   "id": "31ac0da6-4375-4fab-bae6-61886f6fc911",
   "metadata": {},
   "source": [
    "<p> Todos los paises tienen vinos en el rango de precio de 0-300, mientras que solo 12 paises tienen vinos que sobrepsan el limite de precio de 300 </p>"
   ]
  },
  {
   "cell_type": "code",
   "execution_count": null,
   "id": "5c5eac62-a745-41cb-affc-9ae18e2a2a74",
   "metadata": {},
   "outputs": [],
   "source": [
    "# Analizando variedad por precio\n",
    "sns.displot(x=\"variety\" , y=\"price\", data=df2, height = 3, aspect = 8)\n",
    "plt.grid(axis='x')\n",
    "plt.xticks(rotation=90)\n",
    "plt.show()"
   ]
  },
  {
   "cell_type": "code",
   "execution_count": null,
   "id": "a5916be0-aadb-402c-8216-8a2bee2d4ba1",
   "metadata": {},
   "outputs": [],
   "source": [
    "# Analizando solo los vinos con precio mayor a 300\n",
    "df3=df1 [df1[\"price\"] > 300] \n",
    "df3.head()"
   ]
  },
  {
   "cell_type": "code",
   "execution_count": null,
   "id": "da9112d3-f3d1-4d00-9ff7-58a9ecd1ee42",
   "metadata": {},
   "outputs": [],
   "source": [
    "df3.describe()"
   ]
  },
  {
   "cell_type": "code",
   "execution_count": null,
   "id": "6c57b071-1a95-40a8-b979-fd5878a6b80c",
   "metadata": {},
   "outputs": [],
   "source": [
    "df3.info()"
   ]
  },
  {
   "cell_type": "code",
   "execution_count": null,
   "id": "1306caf6-c7b3-482b-b155-c8de5602e312",
   "metadata": {},
   "outputs": [],
   "source": [
    "# Graficando los vinos >300 por precio y pais\n",
    "sns.displot(x=\"variety\" , y=\"price\", data=df3, height = 4, aspect = 5)\n",
    "plt.grid(axis='x')\n",
    "plt.xticks(rotation=90)\n",
    "plt.show()"
   ]
  },
  {
   "cell_type": "markdown",
   "id": "0be7755e-f42c-4f8c-b3bc-31cdd8166651",
   "metadata": {},
   "source": [
    "<p> La variedad Bordeaux-Style Red Blend es con la que se elaboran los vinos más caros, seguido de Pinnot Neir y Chardonnay. </p>"
   ]
  },
  {
   "cell_type": "code",
   "execution_count": null,
   "id": "fe96c7a6-c30f-40b1-b2c2-634f9f486fff",
   "metadata": {},
   "outputs": [],
   "source": [
    "# Graficando los vinos >300 por puntaje y Variedad \n",
    "sns.displot(x=\"variety\" , y=\"points\", data=df3, height = 4, aspect = 5)\n",
    "plt.grid(axis='x')\n",
    "plt.xticks(rotation=90)\n",
    "plt.show()"
   ]
  },
  {
   "cell_type": "markdown",
   "id": "812b497b-9a71-43ed-abba-2bfef842f581",
   "metadata": {},
   "source": [
    "<p> Hay variedades con puntaje de 100, que no necesariamente son los vinos más caros: Muscat, Merlot, Nebbiolo, Bordeaux Style White Blend, Port, Portugueses Red y Sangloveses. </p>"
   ]
  },
  {
   "cell_type": "code",
   "execution_count": null,
   "id": "3d35431f-e36e-433e-89f6-1d5a7c49072d",
   "metadata": {},
   "outputs": [],
   "source": [
    "# Graficando los vinos >300 por precio y pais\n",
    "sns.displot(x=\"country\" , y=\"price\", data=df3, height = 5, aspect = 4)\n",
    "plt.grid(axis='x')\n",
    "plt.xticks(rotation=90)\n",
    "plt.show()"
   ]
  },
  {
   "cell_type": "markdown",
   "id": "7a2250e0-f3d4-4733-a262-007e2d8ea404",
   "metadata": {},
   "source": [
    "<p> Los vinos más caros se elaboran mayoritariamente en Francia.  </p>"
   ]
  },
  {
   "cell_type": "code",
   "execution_count": null,
   "id": "87ba5bc9-9b87-455b-866c-6f09ec87cb91",
   "metadata": {},
   "outputs": [],
   "source": [
    "# Graficando los vinos >300 por precio y winery\n",
    "sns.displot(x=\"winery\" , y=\"price\", data=df3, height = 4, aspect = 5)\n",
    "plt.grid(axis='x')\n",
    "plt.xticks(rotation=90)\n",
    "plt.show()"
   ]
  },
  {
   "cell_type": "markdown",
   "id": "6c88acb2-3dbf-4950-bfae-7d9d6b97a715",
   "metadata": {},
   "source": [
    "<p> Winery que vende el vino más caro es Chateu les Onmes Sorbet, seguida por otras dos bodegas francesas </p>"
   ]
  },
  {
   "cell_type": "code",
   "execution_count": null,
   "id": "91db9540-f485-4312-ac53-7f0e07eee0f3",
   "metadata": {},
   "outputs": [],
   "source": [
    "# Analizando solo los vinos de Francia\n",
    "is_France = df3.loc[:, 'country'] == 'France'\n",
    "df_France = df3.loc[is_France]\n",
    "df_France.head()"
   ]
  },
  {
   "cell_type": "code",
   "execution_count": null,
   "id": "1d95ba72-8bc2-4c06-9927-8806763869bb",
   "metadata": {},
   "outputs": [],
   "source": [
    "df_France.info()"
   ]
  },
  {
   "cell_type": "code",
   "execution_count": null,
   "id": "ce32a75c-c2a0-4596-ba89-7ccdb1135c04",
   "metadata": {},
   "outputs": [],
   "source": [
    "# Graficando los vinos franceses>300 por precio y region\n",
    "sns.displot(x=\"winery\" , y=\"price\", data=df_France, height = 4, aspect = 5)\n",
    "plt.grid(axis='x')\n",
    "plt.xticks(rotation=90)\n",
    "plt.show()"
   ]
  },
  {
   "cell_type": "markdown",
   "id": "ed482808-98ae-4477-9612-cd662a46ab7f",
   "metadata": {},
   "source": [
    "# Ingeniería de Características"
   ]
  },
  {
   "cell_type": "markdown",
   "id": "37aec310-0de2-4286-a521-fbfbd8b31dfb",
   "metadata": {},
   "source": [
    "+ ### Lectura de los datos con Pandas."
   ]
  },
  {
   "cell_type": "code",
   "execution_count": null,
   "id": "4c759426-518b-4d5c-b058-a41cc54a1841",
   "metadata": {},
   "outputs": [],
   "source": [
    "#DataFrame\n",
    "\n",
    "df = pd.read_csv(\"wine_reviews_dataset.csv\")\n",
    "df.head()"
   ]
  },
  {
   "cell_type": "markdown",
   "id": "694b6e43-3f39-4d80-961b-0161bbc4f698",
   "metadata": {},
   "source": [
    "Se observa: \n",
    "+ Datos vacíos que han sido llenados por defecto con \"NaN\". "
   ]
  },
  {
   "cell_type": "markdown",
   "id": "72b1dadb-b181-408c-9ef7-72e6f7c435ae",
   "metadata": {},
   "source": [
    "+ ### ¿Qué podemos hacer con los datos \"NaN\"?"
   ]
  },
  {
   "cell_type": "code",
   "execution_count": null,
   "id": "387af678-d8b2-459c-a805-adab82a2bbfe",
   "metadata": {},
   "outputs": [],
   "source": [
    "#Filtrar eliminando filas con datos incompletos (NaN).\n",
    "\n",
    "df_filtrado = df.dropna()\n",
    "df_filtrado.head()"
   ]
  },
  {
   "cell_type": "markdown",
   "id": "fa2eb686-e425-4e36-92e2-94d01309e4a0",
   "metadata": {},
   "source": [
    "Se observa:\n",
    "+ No es recomendable porque perdemos datos. "
   ]
  },
  {
   "cell_type": "code",
   "execution_count": null,
   "id": "35cf1891-ff8f-49b2-b64b-beff0c728481",
   "metadata": {},
   "outputs": [],
   "source": [
    "# Reemplazar los \"NaN\" con valor 0.\n",
    "\n",
    "df_filtrado = df.fillna(0)\n",
    "df_filtrado.head()"
   ]
  },
  {
   "cell_type": "markdown",
   "id": "1e2f41e3-e345-4298-b864-38c5439da1b1",
   "metadata": {},
   "source": [
    "Se observa:\n",
    "+ No se eliminan las filas, solo se reemplaza \"NaN\" con valor 0, conservando así el resto de datos.\n",
    "+ Según la info del DataFrame, la variable \"price (precio)\" hace falta 8996 datos, por lo que reemplazarlo por 0 podría generar sesgo. \n",
    "+ También faltan datos de las variables \"country\", \"region_1\", \"region_2\" y \"variety\" que son variables categóricas por lo que reemplazar los datos faltantes con \"0\" dificultaría."
   ]
  },
  {
   "cell_type": "code",
   "execution_count": null,
   "id": "fbd9d5e8-836e-4958-aa1b-60d01455bc64",
   "metadata": {},
   "outputs": [],
   "source": [
    "# Posibilidad 1: Filtrar columnas.\n",
    "\n",
    "df_filtrado[[\"country\", \"description\", \"designation\", \"points\", \"province\", \"region_1\", \"region_2\", \"taster_name\", \"taster_twitter_handle\", \"title\", \"variety\", \"winery\"]]"
   ]
  },
  {
   "cell_type": "markdown",
   "id": "0293300c-c539-4c76-b3ad-3712d60c4290",
   "metadata": {},
   "source": [
    "Se observa:\n",
    "+ Se opta por eliminar las columnas:"
   ]
  },
  {
   "cell_type": "code",
   "execution_count": null,
   "id": "a577dae8-953f-4fe3-86f1-2e319c3dd31b",
   "metadata": {},
   "outputs": [],
   "source": [
    "# Posibilidad 2: Filtrado por condiciones.\n",
    "\n",
    "df_filtrado[df_filtrado[\"price\"] > 0]"
   ]
  },
  {
   "cell_type": "markdown",
   "id": "2dad35b2-9f71-440f-8094-f8477544cc40",
   "metadata": {},
   "source": [
    "Se observa:\n",
    "+ La condición del filtrado es que considere todos los valores mayores que \"0\".\n",
    "+ Las filas donde el valor de \"price\" es \"0\" se eliminan, perdiendo datos de las demás variables que se encuentran en la fila.\n",
    "+ Se pierden menos datos que eliminando todas las filas donde aparezca \"NaN o 0\" ya que solo se eliminan las filas donde price sea valor \"0\". "
   ]
  },
  {
   "cell_type": "code",
   "execution_count": null,
   "id": "f157a9bf-98d0-40b7-a469-d590e138c857",
   "metadata": {},
   "outputs": [],
   "source": [
    "# Posibilidad 3: Imputación de datos faltantes. Filtrar por subgrupos.\n",
    "\n",
    "df(df.dropna(subset=[\"\"], inplace=true]"
   ]
  },
  {
   "cell_type": "code",
   "execution_count": null,
   "id": "ad2dcb18-3ebc-4138-9797-77361f102f26",
   "metadata": {},
   "outputs": [],
   "source": [
    "# Los datos que faltan en la variable categórica \"region_2\" se reemplaza por \"DESCONOCIDO\". \n",
    "print(df[\"region_2\"].fillna(\"DESCONOCIDO\"))"
   ]
  },
  {
   "cell_type": "code",
   "execution_count": null,
   "id": "f445e095-f37f-44f4-afc6-95b051e8bc54",
   "metadata": {},
   "outputs": [],
   "source": [
    "valores_por_defecto = {\"region_2\" : \"DESCONOCIDO\",\n",
    "                      \"region_1\" : \"DESCONOCIDO\",\n",
    "                      \"variety\" : \"DESCONOCIDO\",\n",
    "                      \"country\" : \"DESCONOCIDO\",\n",
    "                      \"price\" : 35.363389}\n",
    "print(df.fillna(value=valores_por_defecto))"
   ]
  },
  {
   "cell_type": "code",
   "execution_count": null,
   "id": "1547e93d-f003-4eb7-b697-479039c617bc",
   "metadata": {},
   "outputs": [],
   "source": [
    "promedio = df[\"price\"].mean()\n",
    "mediana = df[\"price\"].median()\n",
    "moda = df[\"price\"].mode()[0]\n",
    "print(promedio, mediana, moda)"
   ]
  },
  {
   "cell_type": "markdown",
   "id": "3e777401-629a-4790-925d-dc67238e8d43",
   "metadata": {},
   "source": [
    "Se observa:\n",
    "+ Promedio_precio = 35.363389129985535.\n",
    "+ Mediana_precio = 25.0\n",
    "+ Moda_precio = 20.0"
   ]
  },
  {
   "cell_type": "code",
   "execution_count": null,
   "id": "d450d557-787f-4fbe-8aa7-e6545c170394",
   "metadata": {},
   "outputs": [],
   "source": [
    "print(df[\"price\"].fillna(promedio))"
   ]
  },
  {
   "cell_type": "code",
   "execution_count": null,
   "id": "f150914e-6695-4edd-8dd7-12ca55bd49aa",
   "metadata": {},
   "outputs": [],
   "source": [
    "print(df[\"price\"].fillna(mediana))"
   ]
  },
  {
   "cell_type": "code",
   "execution_count": null,
   "id": "5c80d217-5c42-4893-9830-133a036a5f40",
   "metadata": {},
   "outputs": [],
   "source": [
    "print(df[\"price\"].fillna(moda))"
   ]
  },
  {
   "cell_type": "code",
   "execution_count": null,
   "id": "e6e5adca-6f2e-4177-89b1-34cc93cbc5e5",
   "metadata": {},
   "outputs": [],
   "source": []
  },
  {
   "cell_type": "code",
   "execution_count": null,
   "id": "48c862ea-86e1-4797-bb77-bf1906f26d68",
   "metadata": {},
   "outputs": [],
   "source": [
    "# Datos duplicados\n",
    "\n",
    "df.duplicated()"
   ]
  },
  {
   "cell_type": "code",
   "execution_count": null,
   "id": "eb41be23-7ccb-49dd-ad50-153cf351e849",
   "metadata": {},
   "outputs": [],
   "source": [
    "df_filas_duplicadas = df[df.duplicated()]\n",
    "print(df_filas_duplicadas)"
   ]
  },
  {
   "cell_type": "code",
   "execution_count": null,
   "id": "fd03aa31-4fc0-46fb-ba03-384f303cbdb0",
   "metadata": {},
   "outputs": [],
   "source": [
    "df.info()"
   ]
  },
  {
   "cell_type": "code",
   "execution_count": null,
   "id": "8a1d0faa-ae89-4766-a2db-3bfefd16c726",
   "metadata": {},
   "outputs": [],
   "source": [
    "df.duplicated()"
   ]
  },
  {
   "cell_type": "code",
   "execution_count": null,
   "id": "9f532d7b-ec08-4bde-a3d9-e785b0c00d5a",
   "metadata": {},
   "outputs": [],
   "source": [
    "df.drop_duplicated()"
   ]
  },
  {
   "cell_type": "code",
   "execution_count": null,
   "id": "738138a2-dbd5-4e31-ae61-f8dfae7b2de0",
   "metadata": {},
   "outputs": [],
   "source": [
    "df.isnull().mean().sort_values(ascending = False)"
   ]
  },
  {
   "cell_type": "code",
   "execution_count": 21,
   "id": "683c5da4-caf6-4b85-8c54-6fb0292f51a6",
   "metadata": {},
   "outputs": [
    {
     "data": {
      "text/html": [
       "<div>\n",
       "<style scoped>\n",
       "    .dataframe tbody tr th:only-of-type {\n",
       "        vertical-align: middle;\n",
       "    }\n",
       "\n",
       "    .dataframe tbody tr th {\n",
       "        vertical-align: top;\n",
       "    }\n",
       "\n",
       "    .dataframe thead th {\n",
       "        text-align: right;\n",
       "    }\n",
       "</style>\n",
       "<table border=\"1\" class=\"dataframe\">\n",
       "  <thead>\n",
       "    <tr style=\"text-align: right;\">\n",
       "      <th></th>\n",
       "      <th>country</th>\n",
       "      <th>description</th>\n",
       "      <th>designation</th>\n",
       "      <th>points</th>\n",
       "      <th>price</th>\n",
       "      <th>province</th>\n",
       "      <th>region_1</th>\n",
       "      <th>region_2</th>\n",
       "      <th>taster_name</th>\n",
       "      <th>taster_twitter_handle</th>\n",
       "      <th>title</th>\n",
       "      <th>variety</th>\n",
       "      <th>winery</th>\n",
       "    </tr>\n",
       "  </thead>\n",
       "  <tbody>\n",
       "    <tr>\n",
       "      <th>5</th>\n",
       "      <td>Spain</td>\n",
       "      <td>Blackberry and raspberry aromas show a typical...</td>\n",
       "      <td>Ars In Vitro</td>\n",
       "      <td>87</td>\n",
       "      <td>15.0</td>\n",
       "      <td>Northern Spain</td>\n",
       "      <td>Navarra</td>\n",
       "      <td>NaN</td>\n",
       "      <td>Michael Schachner</td>\n",
       "      <td>@wineschach</td>\n",
       "      <td>Tandem 2011 Ars In Vitro Tempranillo-Merlot (N...</td>\n",
       "      <td>Tempranillo-Merlot</td>\n",
       "      <td>Tandem</td>\n",
       "    </tr>\n",
       "    <tr>\n",
       "      <th>18</th>\n",
       "      <td>Spain</td>\n",
       "      <td>Desiccated blackberry, leather, charred wood a...</td>\n",
       "      <td>Vendimia Seleccionada Finca Valdelayegua Singl...</td>\n",
       "      <td>87</td>\n",
       "      <td>28.0</td>\n",
       "      <td>Northern Spain</td>\n",
       "      <td>Ribera del Duero</td>\n",
       "      <td>NaN</td>\n",
       "      <td>Michael Schachner</td>\n",
       "      <td>@wineschach</td>\n",
       "      <td>Pradorey 2010 Vendimia Seleccionada Finca Vald...</td>\n",
       "      <td>Tempranillo Blend</td>\n",
       "      <td>Pradorey</td>\n",
       "    </tr>\n",
       "    <tr>\n",
       "      <th>81</th>\n",
       "      <td>Spain</td>\n",
       "      <td>Bland, mature aromas of white fruits are on th...</td>\n",
       "      <td>NaN</td>\n",
       "      <td>86</td>\n",
       "      <td>16.0</td>\n",
       "      <td>Galicia</td>\n",
       "      <td>Rías Baixas</td>\n",
       "      <td>NaN</td>\n",
       "      <td>Michael Schachner</td>\n",
       "      <td>@wineschach</td>\n",
       "      <td>Spyro 2014 Albariño (Rías Baixas)</td>\n",
       "      <td>Albariño</td>\n",
       "      <td>Spyro</td>\n",
       "    </tr>\n",
       "    <tr>\n",
       "      <th>154</th>\n",
       "      <td>Spain</td>\n",
       "      <td>Ripe aromas of raisin, black plum and horsehid...</td>\n",
       "      <td>Single Vineyard Estate Bottled</td>\n",
       "      <td>91</td>\n",
       "      <td>50.0</td>\n",
       "      <td>Central Spain</td>\n",
       "      <td>Dominio de Valdepusa</td>\n",
       "      <td>NaN</td>\n",
       "      <td>Michael Schachner</td>\n",
       "      <td>@wineschach</td>\n",
       "      <td>Marques de Griñon 2010 Single Vineyard Estate ...</td>\n",
       "      <td>Graciano</td>\n",
       "      <td>Marques de Griñon</td>\n",
       "    </tr>\n",
       "    <tr>\n",
       "      <th>212</th>\n",
       "      <td>Spain</td>\n",
       "      <td>Mellow white-fruit aromas are nonspecific and ...</td>\n",
       "      <td>Fermentado en Barrica</td>\n",
       "      <td>90</td>\n",
       "      <td>40.0</td>\n",
       "      <td>Northern Spain</td>\n",
       "      <td>Rueda</td>\n",
       "      <td>NaN</td>\n",
       "      <td>Michael Schachner</td>\n",
       "      <td>@wineschach</td>\n",
       "      <td>Matarromera 2015 Fermentado en Barrica Verdejo...</td>\n",
       "      <td>Verdejo</td>\n",
       "      <td>Matarromera</td>\n",
       "    </tr>\n",
       "  </tbody>\n",
       "</table>\n",
       "</div>"
      ],
      "text/plain": [
       "    country                                        description  \\\n",
       "5     Spain  Blackberry and raspberry aromas show a typical...   \n",
       "18    Spain  Desiccated blackberry, leather, charred wood a...   \n",
       "81    Spain  Bland, mature aromas of white fruits are on th...   \n",
       "154   Spain  Ripe aromas of raisin, black plum and horsehid...   \n",
       "212   Spain  Mellow white-fruit aromas are nonspecific and ...   \n",
       "\n",
       "                                           designation  points  price  \\\n",
       "5                                         Ars In Vitro      87   15.0   \n",
       "18   Vendimia Seleccionada Finca Valdelayegua Singl...      87   28.0   \n",
       "81                                                 NaN      86   16.0   \n",
       "154                     Single Vineyard Estate Bottled      91   50.0   \n",
       "212                              Fermentado en Barrica      90   40.0   \n",
       "\n",
       "           province              region_1 region_2        taster_name  \\\n",
       "5    Northern Spain               Navarra      NaN  Michael Schachner   \n",
       "18   Northern Spain      Ribera del Duero      NaN  Michael Schachner   \n",
       "81          Galicia           Rías Baixas      NaN  Michael Schachner   \n",
       "154   Central Spain  Dominio de Valdepusa      NaN  Michael Schachner   \n",
       "212  Northern Spain                 Rueda      NaN  Michael Schachner   \n",
       "\n",
       "    taster_twitter_handle                                              title  \\\n",
       "5             @wineschach  Tandem 2011 Ars In Vitro Tempranillo-Merlot (N...   \n",
       "18            @wineschach  Pradorey 2010 Vendimia Seleccionada Finca Vald...   \n",
       "81            @wineschach                  Spyro 2014 Albariño (Rías Baixas)   \n",
       "154           @wineschach  Marques de Griñon 2010 Single Vineyard Estate ...   \n",
       "212           @wineschach  Matarromera 2015 Fermentado en Barrica Verdejo...   \n",
       "\n",
       "                variety             winery  \n",
       "5    Tempranillo-Merlot             Tandem  \n",
       "18    Tempranillo Blend           Pradorey  \n",
       "81             Albariño              Spyro  \n",
       "154            Graciano  Marques de Griñon  \n",
       "212             Verdejo        Matarromera  "
      ]
     },
     "execution_count": 21,
     "metadata": {},
     "output_type": "execute_result"
    }
   ],
   "source": [
    "is_Spain = df.loc[:, 'country'] == 'Spain'\n",
    "df_Spain = df.loc[is_Spain]\n",
    "df_Spain.head()"
   ]
  },
  {
   "cell_type": "code",
   "execution_count": null,
   "id": "207ffb59-a75f-4c76-af76-2b2ab91d8a47",
   "metadata": {},
   "outputs": [],
   "source": []
  }
 ],
 "metadata": {
  "kernelspec": {
   "display_name": "Python 3 (ipykernel)",
   "language": "python",
   "name": "python3"
  },
  "language_info": {
   "codemirror_mode": {
    "name": "ipython",
    "version": 3
   },
   "file_extension": ".py",
   "mimetype": "text/x-python",
   "name": "python",
   "nbconvert_exporter": "python",
   "pygments_lexer": "ipython3",
   "version": "3.10.4"
  }
 },
 "nbformat": 4,
 "nbformat_minor": 5
}
